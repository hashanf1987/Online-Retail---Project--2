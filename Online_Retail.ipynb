{
 "cells": [
  {
   "cell_type": "markdown",
   "metadata": {},
   "source": [
    "### This project analyse the online retail data set for the year 2010 & 2011"
   ]
  },
  {
   "cell_type": "markdown",
   "metadata": {},
   "source": [
    "#### Import Pandas, matplotlib & seaborn libraries"
   ]
  },
  {
   "cell_type": "code",
   "execution_count": 51,
   "metadata": {},
   "outputs": [],
   "source": [
    "import pandas as pd"
   ]
  },
  {
   "cell_type": "code",
   "execution_count": 2,
   "metadata": {},
   "outputs": [],
   "source": [
    "import matplotlib.pyplot as plt\n",
    "import seaborn as sns\n",
    "%matplotlib inline"
   ]
  },
  {
   "cell_type": "markdown",
   "metadata": {},
   "source": [
    "##### Import online retail data set"
   ]
  },
  {
   "cell_type": "code",
   "execution_count": 3,
   "metadata": {},
   "outputs": [
    {
     "name": "stderr",
     "output_type": "stream",
     "text": [
      "C:\\Users\\cfsbc\\AppData\\Local\\Temp\\ipykernel_13440\\492089258.py:1: DtypeWarning: Columns (0) have mixed types. Specify dtype option on import or set low_memory=False.\n",
      "  Online_retail_df = pd.read_csv('C:/Users/cfsbc/OneDrive - GUSCanada/Project 2/Online Retail Dataset.csv',)\n"
     ]
    }
   ],
   "source": [
    "Online_retail_df = pd.read_csv('C:/Users/cfsbc/OneDrive - GUSCanada/Project 2/Online Retail Dataset.csv',)"
   ]
  },
  {
   "cell_type": "code",
   "execution_count": 4,
   "metadata": {},
   "outputs": [
    {
     "data": {
      "text/html": [
       "<div>\n",
       "<style scoped>\n",
       "    .dataframe tbody tr th:only-of-type {\n",
       "        vertical-align: middle;\n",
       "    }\n",
       "\n",
       "    .dataframe tbody tr th {\n",
       "        vertical-align: top;\n",
       "    }\n",
       "\n",
       "    .dataframe thead th {\n",
       "        text-align: right;\n",
       "    }\n",
       "</style>\n",
       "<table border=\"1\" class=\"dataframe\">\n",
       "  <thead>\n",
       "    <tr style=\"text-align: right;\">\n",
       "      <th></th>\n",
       "      <th>Quantity</th>\n",
       "      <th>UnitPrice</th>\n",
       "      <th>CustomerID</th>\n",
       "    </tr>\n",
       "  </thead>\n",
       "  <tbody>\n",
       "    <tr>\n",
       "      <th>count</th>\n",
       "      <td>530208.000000</td>\n",
       "      <td>530208.000000</td>\n",
       "      <td>397988.000000</td>\n",
       "    </tr>\n",
       "    <tr>\n",
       "      <th>mean</th>\n",
       "      <td>10.544982</td>\n",
       "      <td>3.907996</td>\n",
       "      <td>15294.450790</td>\n",
       "    </tr>\n",
       "    <tr>\n",
       "      <th>std</th>\n",
       "      <td>155.509496</td>\n",
       "      <td>35.913539</td>\n",
       "      <td>1713.244629</td>\n",
       "    </tr>\n",
       "    <tr>\n",
       "      <th>min</th>\n",
       "      <td>1.000000</td>\n",
       "      <td>0.001000</td>\n",
       "      <td>12346.000000</td>\n",
       "    </tr>\n",
       "    <tr>\n",
       "      <th>25%</th>\n",
       "      <td>1.000000</td>\n",
       "      <td>1.250000</td>\n",
       "      <td>13969.000000</td>\n",
       "    </tr>\n",
       "    <tr>\n",
       "      <th>50%</th>\n",
       "      <td>3.000000</td>\n",
       "      <td>2.080000</td>\n",
       "      <td>15159.000000</td>\n",
       "    </tr>\n",
       "    <tr>\n",
       "      <th>75%</th>\n",
       "      <td>10.000000</td>\n",
       "      <td>4.130000</td>\n",
       "      <td>16795.000000</td>\n",
       "    </tr>\n",
       "    <tr>\n",
       "      <th>max</th>\n",
       "      <td>80995.000000</td>\n",
       "      <td>13541.330000</td>\n",
       "      <td>18287.000000</td>\n",
       "    </tr>\n",
       "  </tbody>\n",
       "</table>\n",
       "</div>"
      ],
      "text/plain": [
       "            Quantity      UnitPrice     CustomerID\n",
       "count  530208.000000  530208.000000  397988.000000\n",
       "mean       10.544982       3.907996   15294.450790\n",
       "std       155.509496      35.913539    1713.244629\n",
       "min         1.000000       0.001000   12346.000000\n",
       "25%         1.000000       1.250000   13969.000000\n",
       "50%         3.000000       2.080000   15159.000000\n",
       "75%        10.000000       4.130000   16795.000000\n",
       "max     80995.000000   13541.330000   18287.000000"
      ]
     },
     "execution_count": 4,
     "metadata": {},
     "output_type": "execute_result"
    }
   ],
   "source": [
    "Online_retail_df.describe()"
   ]
  },
  {
   "cell_type": "code",
   "execution_count": 43,
   "metadata": {},
   "outputs": [],
   "source": [
    "Online_retail_df['Quantity'] = Online_retail_df['Quantity'].astype('int64')"
   ]
  },
  {
   "cell_type": "code",
   "execution_count": 6,
   "metadata": {},
   "outputs": [],
   "source": [
    "Online_retail_df['UnitPrice'] = Online_retail_df['UnitPrice'].astype('int64')"
   ]
  },
  {
   "cell_type": "markdown",
   "metadata": {},
   "source": [
    "#### Create a new Column (Total_Cost)"
   ]
  },
  {
   "cell_type": "code",
   "execution_count": 7,
   "metadata": {},
   "outputs": [],
   "source": [
    "Online_retail_df ['Total_Cost'] = Online_retail_df['UnitPrice'] * Online_retail_df['Quantity']"
   ]
  },
  {
   "cell_type": "markdown",
   "metadata": {},
   "source": [
    "### Sorting the data set accourding to the Quanitity"
   ]
  },
  {
   "cell_type": "code",
   "execution_count": 8,
   "metadata": {},
   "outputs": [
    {
     "data": {
      "text/html": [
       "<div>\n",
       "<style scoped>\n",
       "    .dataframe tbody tr th:only-of-type {\n",
       "        vertical-align: middle;\n",
       "    }\n",
       "\n",
       "    .dataframe tbody tr th {\n",
       "        vertical-align: top;\n",
       "    }\n",
       "\n",
       "    .dataframe thead th {\n",
       "        text-align: right;\n",
       "    }\n",
       "</style>\n",
       "<table border=\"1\" class=\"dataframe\">\n",
       "  <thead>\n",
       "    <tr style=\"text-align: right;\">\n",
       "      <th></th>\n",
       "      <th>InvoiceNo</th>\n",
       "      <th>StockCode</th>\n",
       "      <th>Description</th>\n",
       "      <th>Quantity</th>\n",
       "      <th>InvoiceDate</th>\n",
       "      <th>UnitPrice</th>\n",
       "      <th>CustomerID</th>\n",
       "      <th>Country</th>\n",
       "      <th>Total_Cost</th>\n",
       "    </tr>\n",
       "  </thead>\n",
       "  <tbody>\n",
       "    <tr>\n",
       "      <th>528727</th>\n",
       "      <td>581483</td>\n",
       "      <td>23843</td>\n",
       "      <td>PAPER CRAFT , LITTLE BIRDIE</td>\n",
       "      <td>80995.0</td>\n",
       "      <td>9/12/2011 9:15</td>\n",
       "      <td>2</td>\n",
       "      <td>16446.0</td>\n",
       "      <td>United Kingdom</td>\n",
       "      <td>161990.0</td>\n",
       "    </tr>\n",
       "    <tr>\n",
       "      <th>60354</th>\n",
       "      <td>541431</td>\n",
       "      <td>23166</td>\n",
       "      <td>MEDIUM CERAMIC TOP STORAGE JAR</td>\n",
       "      <td>74215.0</td>\n",
       "      <td>18/01/2011 10:01</td>\n",
       "      <td>1</td>\n",
       "      <td>12346.0</td>\n",
       "      <td>United Kingdom</td>\n",
       "      <td>74215.0</td>\n",
       "    </tr>\n",
       "    <tr>\n",
       "      <th>411817</th>\n",
       "      <td>573008</td>\n",
       "      <td>84077</td>\n",
       "      <td>WORLD WAR 2 GLIDERS ASSTD DESIGNS</td>\n",
       "      <td>4800.0</td>\n",
       "      <td>27/10/2011 12:26</td>\n",
       "      <td>0</td>\n",
       "      <td>12901.0</td>\n",
       "      <td>United Kingdom</td>\n",
       "      <td>0.0</td>\n",
       "    </tr>\n",
       "    <tr>\n",
       "      <th>201190</th>\n",
       "      <td>554868</td>\n",
       "      <td>22197</td>\n",
       "      <td>SMALL POPCORN HOLDER</td>\n",
       "      <td>4300.0</td>\n",
       "      <td>27/05/2011 10:52</td>\n",
       "      <td>0</td>\n",
       "      <td>13135.0</td>\n",
       "      <td>United Kingdom</td>\n",
       "      <td>0.0</td>\n",
       "    </tr>\n",
       "    <tr>\n",
       "      <th>95213</th>\n",
       "      <td>544612</td>\n",
       "      <td>22053</td>\n",
       "      <td>EMPIRE DESIGN ROSETTE</td>\n",
       "      <td>3906.0</td>\n",
       "      <td>22/02/2011 10:43</td>\n",
       "      <td>0</td>\n",
       "      <td>18087.0</td>\n",
       "      <td>United Kingdom</td>\n",
       "      <td>0.0</td>\n",
       "    </tr>\n",
       "    <tr>\n",
       "      <th>264456</th>\n",
       "      <td>560599</td>\n",
       "      <td>18007</td>\n",
       "      <td>ESSENTIAL BALM 3.5g TIN IN ENVELOPE</td>\n",
       "      <td>3186.0</td>\n",
       "      <td>19/07/2011 17:04</td>\n",
       "      <td>0</td>\n",
       "      <td>14609.0</td>\n",
       "      <td>United Kingdom</td>\n",
       "      <td>0.0</td>\n",
       "    </tr>\n",
       "    <tr>\n",
       "      <th>51536</th>\n",
       "      <td>540815</td>\n",
       "      <td>21108</td>\n",
       "      <td>FAIRY CAKE FLANNEL ASSORTED COLOUR</td>\n",
       "      <td>3114.0</td>\n",
       "      <td>11/1/2011 12:55</td>\n",
       "      <td>2</td>\n",
       "      <td>15749.0</td>\n",
       "      <td>United Kingdom</td>\n",
       "      <td>6228.0</td>\n",
       "    </tr>\n",
       "    <tr>\n",
       "      <th>156719</th>\n",
       "      <td>550461</td>\n",
       "      <td>21108</td>\n",
       "      <td>FAIRY CAKE FLANNEL ASSORTED COLOUR</td>\n",
       "      <td>3114.0</td>\n",
       "      <td>18/04/2011 13:20</td>\n",
       "      <td>2</td>\n",
       "      <td>15749.0</td>\n",
       "      <td>United Kingdom</td>\n",
       "      <td>6228.0</td>\n",
       "    </tr>\n",
       "    <tr>\n",
       "      <th>423768</th>\n",
       "      <td>573995</td>\n",
       "      <td>16014</td>\n",
       "      <td>SMALL CHINESE STYLE SCISSOR</td>\n",
       "      <td>3000.0</td>\n",
       "      <td>2/11/2011 11:24</td>\n",
       "      <td>0</td>\n",
       "      <td>16308.0</td>\n",
       "      <td>United Kingdom</td>\n",
       "      <td>0.0</td>\n",
       "    </tr>\n",
       "    <tr>\n",
       "      <th>284360</th>\n",
       "      <td>562439</td>\n",
       "      <td>84879</td>\n",
       "      <td>ASSORTED COLOUR BIRD ORNAMENT</td>\n",
       "      <td>2880.0</td>\n",
       "      <td>4/8/2011 18:06</td>\n",
       "      <td>1</td>\n",
       "      <td>12931.0</td>\n",
       "      <td>United Kingdom</td>\n",
       "      <td>2880.0</td>\n",
       "    </tr>\n",
       "  </tbody>\n",
       "</table>\n",
       "</div>"
      ],
      "text/plain": [
       "       InvoiceNo StockCode                          Description  Quantity  \\\n",
       "528727    581483     23843          PAPER CRAFT , LITTLE BIRDIE   80995.0   \n",
       "60354     541431     23166       MEDIUM CERAMIC TOP STORAGE JAR   74215.0   \n",
       "411817    573008     84077    WORLD WAR 2 GLIDERS ASSTD DESIGNS    4800.0   \n",
       "201190    554868     22197                 SMALL POPCORN HOLDER    4300.0   \n",
       "95213     544612     22053                EMPIRE DESIGN ROSETTE    3906.0   \n",
       "264456    560599     18007  ESSENTIAL BALM 3.5g TIN IN ENVELOPE    3186.0   \n",
       "51536     540815     21108   FAIRY CAKE FLANNEL ASSORTED COLOUR    3114.0   \n",
       "156719    550461     21108   FAIRY CAKE FLANNEL ASSORTED COLOUR    3114.0   \n",
       "423768    573995     16014          SMALL CHINESE STYLE SCISSOR    3000.0   \n",
       "284360    562439     84879        ASSORTED COLOUR BIRD ORNAMENT    2880.0   \n",
       "\n",
       "             InvoiceDate  UnitPrice  CustomerID         Country  Total_Cost  \n",
       "528727    9/12/2011 9:15          2     16446.0  United Kingdom    161990.0  \n",
       "60354   18/01/2011 10:01          1     12346.0  United Kingdom     74215.0  \n",
       "411817  27/10/2011 12:26          0     12901.0  United Kingdom         0.0  \n",
       "201190  27/05/2011 10:52          0     13135.0  United Kingdom         0.0  \n",
       "95213   22/02/2011 10:43          0     18087.0  United Kingdom         0.0  \n",
       "264456  19/07/2011 17:04          0     14609.0  United Kingdom         0.0  \n",
       "51536    11/1/2011 12:55          2     15749.0  United Kingdom      6228.0  \n",
       "156719  18/04/2011 13:20          2     15749.0  United Kingdom      6228.0  \n",
       "423768   2/11/2011 11:24          0     16308.0  United Kingdom         0.0  \n",
       "284360    4/8/2011 18:06          1     12931.0  United Kingdom      2880.0  "
      ]
     },
     "execution_count": 8,
     "metadata": {},
     "output_type": "execute_result"
    }
   ],
   "source": [
    "Online_retail_df.sort_values('Quantity', ascending=False).head(10)"
   ]
  },
  {
   "cell_type": "markdown",
   "metadata": {},
   "source": [
    "#### Extract higher quantity orders"
   ]
  },
  {
   "cell_type": "code",
   "execution_count": 9,
   "metadata": {},
   "outputs": [],
   "source": [
    "high_quantity = Online_retail_df.Quantity > 1000"
   ]
  },
  {
   "cell_type": "code",
   "execution_count": 10,
   "metadata": {},
   "outputs": [
    {
     "data": {
      "text/plain": [
       "0         False\n",
       "1         False\n",
       "2         False\n",
       "3         False\n",
       "4         False\n",
       "          ...  \n",
       "530203    False\n",
       "530204    False\n",
       "530205    False\n",
       "530206    False\n",
       "530207    False\n",
       "Name: Quantity, Length: 530208, dtype: bool"
      ]
     },
     "execution_count": 10,
     "metadata": {},
     "output_type": "execute_result"
    }
   ],
   "source": [
    "high_quantity"
   ]
  },
  {
   "cell_type": "code",
   "execution_count": 44,
   "metadata": {},
   "outputs": [
    {
     "data": {
      "text/html": [
       "<div>\n",
       "<style scoped>\n",
       "    .dataframe tbody tr th:only-of-type {\n",
       "        vertical-align: middle;\n",
       "    }\n",
       "\n",
       "    .dataframe tbody tr th {\n",
       "        vertical-align: top;\n",
       "    }\n",
       "\n",
       "    .dataframe thead th {\n",
       "        text-align: right;\n",
       "    }\n",
       "</style>\n",
       "<table border=\"1\" class=\"dataframe\">\n",
       "  <thead>\n",
       "    <tr style=\"text-align: right;\">\n",
       "      <th></th>\n",
       "      <th>InvoiceNo</th>\n",
       "      <th>StockCode</th>\n",
       "      <th>Description</th>\n",
       "      <th>Quantity</th>\n",
       "      <th>InvoiceDate</th>\n",
       "      <th>UnitPrice</th>\n",
       "      <th>CustomerID</th>\n",
       "      <th>Country</th>\n",
       "      <th>Total_Cost</th>\n",
       "      <th>date</th>\n",
       "      <th>year</th>\n",
       "      <th>month</th>\n",
       "      <th>day</th>\n",
       "    </tr>\n",
       "  </thead>\n",
       "  <tbody>\n",
       "    <tr>\n",
       "      <th>4903</th>\n",
       "      <td>536809</td>\n",
       "      <td>84950</td>\n",
       "      <td>ASSORTED COLOUR T-LIGHT HOLDER</td>\n",
       "      <td>1824</td>\n",
       "      <td>2/12/2010 16:48</td>\n",
       "      <td>0</td>\n",
       "      <td>15299.0</td>\n",
       "      <td>United Kingdom</td>\n",
       "      <td>0.0</td>\n",
       "      <td>2010-02-12 16:48:00</td>\n",
       "      <td>2010</td>\n",
       "      <td>2</td>\n",
       "      <td>12</td>\n",
       "    </tr>\n",
       "    <tr>\n",
       "      <th>4967</th>\n",
       "      <td>536830</td>\n",
       "      <td>84077</td>\n",
       "      <td>WORLD WAR 2 GLIDERS ASSTD DESIGNS</td>\n",
       "      <td>2880</td>\n",
       "      <td>2/12/2010 17:38</td>\n",
       "      <td>0</td>\n",
       "      <td>16754.0</td>\n",
       "      <td>United Kingdom</td>\n",
       "      <td>0.0</td>\n",
       "      <td>2010-02-12 17:38:00</td>\n",
       "      <td>2010</td>\n",
       "      <td>2</td>\n",
       "      <td>12</td>\n",
       "    </tr>\n",
       "    <tr>\n",
       "      <th>4968</th>\n",
       "      <td>536830</td>\n",
       "      <td>21915</td>\n",
       "      <td>RED  HARMONICA IN BOX</td>\n",
       "      <td>1400</td>\n",
       "      <td>2/12/2010 17:38</td>\n",
       "      <td>1</td>\n",
       "      <td>16754.0</td>\n",
       "      <td>United Kingdom</td>\n",
       "      <td>1400.0</td>\n",
       "      <td>2010-02-12 17:38:00</td>\n",
       "      <td>2010</td>\n",
       "      <td>2</td>\n",
       "      <td>12</td>\n",
       "    </tr>\n",
       "    <tr>\n",
       "      <th>6377</th>\n",
       "      <td>536890</td>\n",
       "      <td>17084R</td>\n",
       "      <td>ASSORTED INCENSE PACK</td>\n",
       "      <td>1440</td>\n",
       "      <td>3/12/2010 11:48</td>\n",
       "      <td>0</td>\n",
       "      <td>14156.0</td>\n",
       "      <td>EIRE</td>\n",
       "      <td>0.0</td>\n",
       "      <td>2010-03-12 11:48:00</td>\n",
       "      <td>2010</td>\n",
       "      <td>3</td>\n",
       "      <td>12</td>\n",
       "    </tr>\n",
       "    <tr>\n",
       "      <th>16230</th>\n",
       "      <td>537659</td>\n",
       "      <td>22189</td>\n",
       "      <td>CREAM HEART CARD HOLDER</td>\n",
       "      <td>1008</td>\n",
       "      <td>7/12/2010 16:43</td>\n",
       "      <td>2</td>\n",
       "      <td>18102.0</td>\n",
       "      <td>United Kingdom</td>\n",
       "      <td>2016.0</td>\n",
       "      <td>2010-07-12 16:43:00</td>\n",
       "      <td>2010</td>\n",
       "      <td>7</td>\n",
       "      <td>12</td>\n",
       "    </tr>\n",
       "    <tr>\n",
       "      <th>...</th>\n",
       "      <td>...</td>\n",
       "      <td>...</td>\n",
       "      <td>...</td>\n",
       "      <td>...</td>\n",
       "      <td>...</td>\n",
       "      <td>...</td>\n",
       "      <td>...</td>\n",
       "      <td>...</td>\n",
       "      <td>...</td>\n",
       "      <td>...</td>\n",
       "      <td>...</td>\n",
       "      <td>...</td>\n",
       "      <td>...</td>\n",
       "    </tr>\n",
       "    <tr>\n",
       "      <th>522231</th>\n",
       "      <td>581115</td>\n",
       "      <td>22413</td>\n",
       "      <td>METAL SIGN TAKE IT OR LEAVE IT</td>\n",
       "      <td>1404</td>\n",
       "      <td>7/12/2011 12:20</td>\n",
       "      <td>2</td>\n",
       "      <td>15195.0</td>\n",
       "      <td>United Kingdom</td>\n",
       "      <td>2808.0</td>\n",
       "      <td>2011-07-12 12:20:00</td>\n",
       "      <td>2011</td>\n",
       "      <td>7</td>\n",
       "      <td>12</td>\n",
       "    </tr>\n",
       "    <tr>\n",
       "      <th>523350</th>\n",
       "      <td>581175</td>\n",
       "      <td>23084</td>\n",
       "      <td>RABBIT NIGHT LIGHT</td>\n",
       "      <td>1440</td>\n",
       "      <td>7/12/2011 15:16</td>\n",
       "      <td>1</td>\n",
       "      <td>14646.0</td>\n",
       "      <td>Netherlands</td>\n",
       "      <td>1440.0</td>\n",
       "      <td>2011-07-12 15:16:00</td>\n",
       "      <td>2011</td>\n",
       "      <td>7</td>\n",
       "      <td>12</td>\n",
       "    </tr>\n",
       "    <tr>\n",
       "      <th>528395</th>\n",
       "      <td>581458</td>\n",
       "      <td>22197</td>\n",
       "      <td>POPCORN HOLDER</td>\n",
       "      <td>1500</td>\n",
       "      <td>8/12/2011 18:45</td>\n",
       "      <td>0</td>\n",
       "      <td>17949.0</td>\n",
       "      <td>United Kingdom</td>\n",
       "      <td>0.0</td>\n",
       "      <td>2011-08-12 18:45:00</td>\n",
       "      <td>2011</td>\n",
       "      <td>8</td>\n",
       "      <td>12</td>\n",
       "    </tr>\n",
       "    <tr>\n",
       "      <th>528396</th>\n",
       "      <td>581459</td>\n",
       "      <td>22197</td>\n",
       "      <td>POPCORN HOLDER</td>\n",
       "      <td>1200</td>\n",
       "      <td>8/12/2011 18:46</td>\n",
       "      <td>0</td>\n",
       "      <td>17949.0</td>\n",
       "      <td>United Kingdom</td>\n",
       "      <td>0.0</td>\n",
       "      <td>2011-08-12 18:46:00</td>\n",
       "      <td>2011</td>\n",
       "      <td>8</td>\n",
       "      <td>12</td>\n",
       "    </tr>\n",
       "    <tr>\n",
       "      <th>528727</th>\n",
       "      <td>581483</td>\n",
       "      <td>23843</td>\n",
       "      <td>PAPER CRAFT , LITTLE BIRDIE</td>\n",
       "      <td>80995</td>\n",
       "      <td>9/12/2011 9:15</td>\n",
       "      <td>2</td>\n",
       "      <td>16446.0</td>\n",
       "      <td>United Kingdom</td>\n",
       "      <td>161990.0</td>\n",
       "      <td>2011-09-12 09:15:00</td>\n",
       "      <td>2011</td>\n",
       "      <td>9</td>\n",
       "      <td>12</td>\n",
       "    </tr>\n",
       "  </tbody>\n",
       "</table>\n",
       "<p>107 rows × 13 columns</p>\n",
       "</div>"
      ],
      "text/plain": [
       "       InvoiceNo StockCode                        Description  Quantity  \\\n",
       "4903      536809     84950     ASSORTED COLOUR T-LIGHT HOLDER      1824   \n",
       "4967      536830     84077  WORLD WAR 2 GLIDERS ASSTD DESIGNS      2880   \n",
       "4968      536830     21915             RED  HARMONICA IN BOX       1400   \n",
       "6377      536890    17084R              ASSORTED INCENSE PACK      1440   \n",
       "16230     537659     22189            CREAM HEART CARD HOLDER      1008   \n",
       "...          ...       ...                                ...       ...   \n",
       "522231    581115     22413    METAL SIGN TAKE IT OR LEAVE IT       1404   \n",
       "523350    581175     23084                 RABBIT NIGHT LIGHT      1440   \n",
       "528395    581458     22197                     POPCORN HOLDER      1500   \n",
       "528396    581459     22197                     POPCORN HOLDER      1200   \n",
       "528727    581483     23843        PAPER CRAFT , LITTLE BIRDIE     80995   \n",
       "\n",
       "            InvoiceDate  UnitPrice  CustomerID         Country  Total_Cost  \\\n",
       "4903    2/12/2010 16:48          0     15299.0  United Kingdom         0.0   \n",
       "4967    2/12/2010 17:38          0     16754.0  United Kingdom         0.0   \n",
       "4968    2/12/2010 17:38          1     16754.0  United Kingdom      1400.0   \n",
       "6377    3/12/2010 11:48          0     14156.0            EIRE         0.0   \n",
       "16230   7/12/2010 16:43          2     18102.0  United Kingdom      2016.0   \n",
       "...                 ...        ...         ...             ...         ...   \n",
       "522231  7/12/2011 12:20          2     15195.0  United Kingdom      2808.0   \n",
       "523350  7/12/2011 15:16          1     14646.0     Netherlands      1440.0   \n",
       "528395  8/12/2011 18:45          0     17949.0  United Kingdom         0.0   \n",
       "528396  8/12/2011 18:46          0     17949.0  United Kingdom         0.0   \n",
       "528727   9/12/2011 9:15          2     16446.0  United Kingdom    161990.0   \n",
       "\n",
       "                      date  year  month  day  \n",
       "4903   2010-02-12 16:48:00  2010      2   12  \n",
       "4967   2010-02-12 17:38:00  2010      2   12  \n",
       "4968   2010-02-12 17:38:00  2010      2   12  \n",
       "6377   2010-03-12 11:48:00  2010      3   12  \n",
       "16230  2010-07-12 16:43:00  2010      7   12  \n",
       "...                    ...   ...    ...  ...  \n",
       "522231 2011-07-12 12:20:00  2011      7   12  \n",
       "523350 2011-07-12 15:16:00  2011      7   12  \n",
       "528395 2011-08-12 18:45:00  2011      8   12  \n",
       "528396 2011-08-12 18:46:00  2011      8   12  \n",
       "528727 2011-09-12 09:15:00  2011      9   12  \n",
       "\n",
       "[107 rows x 13 columns]"
      ]
     },
     "execution_count": 44,
     "metadata": {},
     "output_type": "execute_result"
    }
   ],
   "source": [
    "Online_retail_df[high_quantity]"
   ]
  },
  {
   "cell_type": "markdown",
   "metadata": {},
   "source": [
    "#### Extract higher price orders"
   ]
  },
  {
   "cell_type": "code",
   "execution_count": 12,
   "metadata": {},
   "outputs": [],
   "source": [
    "high_price = Online_retail_df.UnitPrice > 1000"
   ]
  },
  {
   "cell_type": "markdown",
   "metadata": {},
   "source": [
    "#### Format the data column"
   ]
  },
  {
   "cell_type": "code",
   "execution_count": 13,
   "metadata": {},
   "outputs": [],
   "source": [
    "Online_retail_df['date'] = pd.to_datetime(Online_retail_df.InvoiceDate)"
   ]
  },
  {
   "cell_type": "code",
   "execution_count": 14,
   "metadata": {},
   "outputs": [],
   "source": [
    "Online_retail_df ['year'] = pd.DatetimeIndex(Online_retail_df.date).year\n",
    "Online_retail_df ['month'] = pd.DatetimeIndex(Online_retail_df.date).month\n",
    "Online_retail_df ['day'] = pd.DatetimeIndex(Online_retail_df.date).day"
   ]
  },
  {
   "cell_type": "markdown",
   "metadata": {},
   "source": [
    "#### Write the data set to a new workbook"
   ]
  },
  {
   "cell_type": "code",
   "execution_count": 15,
   "metadata": {},
   "outputs": [],
   "source": [
    "result_df = Online_retail_df[['InvoiceNo','StockCode', 'Description', 'Quantity', 'InvoiceDate', 'UnitPrice', 'CustomerID', 'Country', 'Total_Cost', 'year', 'month', 'day']]"
   ]
  },
  {
   "cell_type": "code",
   "execution_count": 16,
   "metadata": {},
   "outputs": [],
   "source": [
    "result_df.to_csv('results.csv', index=None)"
   ]
  },
  {
   "cell_type": "code",
   "execution_count": 17,
   "metadata": {},
   "outputs": [
    {
     "data": {
      "text/html": [
       "<div>\n",
       "<style scoped>\n",
       "    .dataframe tbody tr th:only-of-type {\n",
       "        vertical-align: middle;\n",
       "    }\n",
       "\n",
       "    .dataframe tbody tr th {\n",
       "        vertical-align: top;\n",
       "    }\n",
       "\n",
       "    .dataframe thead th {\n",
       "        text-align: right;\n",
       "    }\n",
       "</style>\n",
       "<table border=\"1\" class=\"dataframe\">\n",
       "  <thead>\n",
       "    <tr style=\"text-align: right;\">\n",
       "      <th></th>\n",
       "      <th>InvoiceNo</th>\n",
       "      <th>StockCode</th>\n",
       "      <th>Description</th>\n",
       "      <th>Quantity</th>\n",
       "      <th>InvoiceDate</th>\n",
       "      <th>UnitPrice</th>\n",
       "      <th>CustomerID</th>\n",
       "      <th>Country</th>\n",
       "      <th>Total_Cost</th>\n",
       "      <th>year</th>\n",
       "      <th>month</th>\n",
       "      <th>day</th>\n",
       "    </tr>\n",
       "  </thead>\n",
       "  <tbody>\n",
       "    <tr>\n",
       "      <th>0</th>\n",
       "      <td>536365</td>\n",
       "      <td>85123A</td>\n",
       "      <td>WHITE HANGING HEART T-LIGHT HOLDER</td>\n",
       "      <td>6.0</td>\n",
       "      <td>1/12/2010 8:26</td>\n",
       "      <td>2</td>\n",
       "      <td>17850.0</td>\n",
       "      <td>United Kingdom</td>\n",
       "      <td>12.0</td>\n",
       "      <td>2010</td>\n",
       "      <td>1</td>\n",
       "      <td>12</td>\n",
       "    </tr>\n",
       "    <tr>\n",
       "      <th>1</th>\n",
       "      <td>536365</td>\n",
       "      <td>71053</td>\n",
       "      <td>WHITE METAL LANTERN</td>\n",
       "      <td>6.0</td>\n",
       "      <td>1/12/2010 8:26</td>\n",
       "      <td>3</td>\n",
       "      <td>17850.0</td>\n",
       "      <td>United Kingdom</td>\n",
       "      <td>18.0</td>\n",
       "      <td>2010</td>\n",
       "      <td>1</td>\n",
       "      <td>12</td>\n",
       "    </tr>\n",
       "    <tr>\n",
       "      <th>2</th>\n",
       "      <td>536365</td>\n",
       "      <td>84406B</td>\n",
       "      <td>CREAM CUPID HEARTS COAT HANGER</td>\n",
       "      <td>8.0</td>\n",
       "      <td>1/12/2010 8:26</td>\n",
       "      <td>2</td>\n",
       "      <td>17850.0</td>\n",
       "      <td>United Kingdom</td>\n",
       "      <td>16.0</td>\n",
       "      <td>2010</td>\n",
       "      <td>1</td>\n",
       "      <td>12</td>\n",
       "    </tr>\n",
       "    <tr>\n",
       "      <th>3</th>\n",
       "      <td>536365</td>\n",
       "      <td>84029G</td>\n",
       "      <td>KNITTED UNION FLAG HOT WATER BOTTLE</td>\n",
       "      <td>6.0</td>\n",
       "      <td>1/12/2010 8:26</td>\n",
       "      <td>3</td>\n",
       "      <td>17850.0</td>\n",
       "      <td>United Kingdom</td>\n",
       "      <td>18.0</td>\n",
       "      <td>2010</td>\n",
       "      <td>1</td>\n",
       "      <td>12</td>\n",
       "    </tr>\n",
       "    <tr>\n",
       "      <th>4</th>\n",
       "      <td>536365</td>\n",
       "      <td>84029E</td>\n",
       "      <td>RED WOOLLY HOTTIE WHITE HEART.</td>\n",
       "      <td>6.0</td>\n",
       "      <td>1/12/2010 8:26</td>\n",
       "      <td>3</td>\n",
       "      <td>17850.0</td>\n",
       "      <td>United Kingdom</td>\n",
       "      <td>18.0</td>\n",
       "      <td>2010</td>\n",
       "      <td>1</td>\n",
       "      <td>12</td>\n",
       "    </tr>\n",
       "    <tr>\n",
       "      <th>...</th>\n",
       "      <td>...</td>\n",
       "      <td>...</td>\n",
       "      <td>...</td>\n",
       "      <td>...</td>\n",
       "      <td>...</td>\n",
       "      <td>...</td>\n",
       "      <td>...</td>\n",
       "      <td>...</td>\n",
       "      <td>...</td>\n",
       "      <td>...</td>\n",
       "      <td>...</td>\n",
       "      <td>...</td>\n",
       "    </tr>\n",
       "    <tr>\n",
       "      <th>530203</th>\n",
       "      <td>581587</td>\n",
       "      <td>22613</td>\n",
       "      <td>PACK OF 20 SPACEBOY NAPKINS</td>\n",
       "      <td>12.0</td>\n",
       "      <td>9/12/2011 12:50</td>\n",
       "      <td>0</td>\n",
       "      <td>12680.0</td>\n",
       "      <td>France</td>\n",
       "      <td>0.0</td>\n",
       "      <td>2011</td>\n",
       "      <td>9</td>\n",
       "      <td>12</td>\n",
       "    </tr>\n",
       "    <tr>\n",
       "      <th>530204</th>\n",
       "      <td>581587</td>\n",
       "      <td>22899</td>\n",
       "      <td>CHILDREN'S APRON DOLLY GIRL</td>\n",
       "      <td>6.0</td>\n",
       "      <td>9/12/2011 12:50</td>\n",
       "      <td>2</td>\n",
       "      <td>12680.0</td>\n",
       "      <td>France</td>\n",
       "      <td>12.0</td>\n",
       "      <td>2011</td>\n",
       "      <td>9</td>\n",
       "      <td>12</td>\n",
       "    </tr>\n",
       "    <tr>\n",
       "      <th>530205</th>\n",
       "      <td>581587</td>\n",
       "      <td>23254</td>\n",
       "      <td>CHILDRENS CUTLERY DOLLY GIRL</td>\n",
       "      <td>4.0</td>\n",
       "      <td>9/12/2011 12:50</td>\n",
       "      <td>4</td>\n",
       "      <td>12680.0</td>\n",
       "      <td>France</td>\n",
       "      <td>16.0</td>\n",
       "      <td>2011</td>\n",
       "      <td>9</td>\n",
       "      <td>12</td>\n",
       "    </tr>\n",
       "    <tr>\n",
       "      <th>530206</th>\n",
       "      <td>581587</td>\n",
       "      <td>23255</td>\n",
       "      <td>CHILDRENS CUTLERY CIRCUS PARADE</td>\n",
       "      <td>4.0</td>\n",
       "      <td>9/12/2011 12:50</td>\n",
       "      <td>4</td>\n",
       "      <td>12680.0</td>\n",
       "      <td>France</td>\n",
       "      <td>16.0</td>\n",
       "      <td>2011</td>\n",
       "      <td>9</td>\n",
       "      <td>12</td>\n",
       "    </tr>\n",
       "    <tr>\n",
       "      <th>530207</th>\n",
       "      <td>581587</td>\n",
       "      <td>22138</td>\n",
       "      <td>BAKING SET 9 PIECE RETROSPOT</td>\n",
       "      <td>3.0</td>\n",
       "      <td>9/12/2011 12:50</td>\n",
       "      <td>4</td>\n",
       "      <td>12680.0</td>\n",
       "      <td>France</td>\n",
       "      <td>12.0</td>\n",
       "      <td>2011</td>\n",
       "      <td>9</td>\n",
       "      <td>12</td>\n",
       "    </tr>\n",
       "  </tbody>\n",
       "</table>\n",
       "<p>530208 rows × 12 columns</p>\n",
       "</div>"
      ],
      "text/plain": [
       "       InvoiceNo StockCode                          Description  Quantity  \\\n",
       "0         536365    85123A   WHITE HANGING HEART T-LIGHT HOLDER       6.0   \n",
       "1         536365     71053                  WHITE METAL LANTERN       6.0   \n",
       "2         536365    84406B       CREAM CUPID HEARTS COAT HANGER       8.0   \n",
       "3         536365    84029G  KNITTED UNION FLAG HOT WATER BOTTLE       6.0   \n",
       "4         536365    84029E       RED WOOLLY HOTTIE WHITE HEART.       6.0   \n",
       "...          ...       ...                                  ...       ...   \n",
       "530203    581587     22613          PACK OF 20 SPACEBOY NAPKINS      12.0   \n",
       "530204    581587     22899         CHILDREN'S APRON DOLLY GIRL        6.0   \n",
       "530205    581587     23254        CHILDRENS CUTLERY DOLLY GIRL        4.0   \n",
       "530206    581587     23255      CHILDRENS CUTLERY CIRCUS PARADE       4.0   \n",
       "530207    581587     22138        BAKING SET 9 PIECE RETROSPOT        3.0   \n",
       "\n",
       "            InvoiceDate  UnitPrice  CustomerID         Country  Total_Cost  \\\n",
       "0        1/12/2010 8:26          2     17850.0  United Kingdom        12.0   \n",
       "1        1/12/2010 8:26          3     17850.0  United Kingdom        18.0   \n",
       "2        1/12/2010 8:26          2     17850.0  United Kingdom        16.0   \n",
       "3        1/12/2010 8:26          3     17850.0  United Kingdom        18.0   \n",
       "4        1/12/2010 8:26          3     17850.0  United Kingdom        18.0   \n",
       "...                 ...        ...         ...             ...         ...   \n",
       "530203  9/12/2011 12:50          0     12680.0          France         0.0   \n",
       "530204  9/12/2011 12:50          2     12680.0          France        12.0   \n",
       "530205  9/12/2011 12:50          4     12680.0          France        16.0   \n",
       "530206  9/12/2011 12:50          4     12680.0          France        16.0   \n",
       "530207  9/12/2011 12:50          4     12680.0          France        12.0   \n",
       "\n",
       "        year  month  day  \n",
       "0       2010      1   12  \n",
       "1       2010      1   12  \n",
       "2       2010      1   12  \n",
       "3       2010      1   12  \n",
       "4       2010      1   12  \n",
       "...      ...    ...  ...  \n",
       "530203  2011      9   12  \n",
       "530204  2011      9   12  \n",
       "530205  2011      9   12  \n",
       "530206  2011      9   12  \n",
       "530207  2011      9   12  \n",
       "\n",
       "[530208 rows x 12 columns]"
      ]
     },
     "execution_count": 17,
     "metadata": {},
     "output_type": "execute_result"
    }
   ],
   "source": [
    "result_df"
   ]
  },
  {
   "cell_type": "code",
   "execution_count": 20,
   "metadata": {},
   "outputs": [
    {
     "name": "stderr",
     "output_type": "stream",
     "text": [
      "C:\\Users\\cfsbc\\AppData\\Local\\Temp\\ipykernel_13440\\3321924696.py:1: DtypeWarning: Columns (0) have mixed types. Specify dtype option on import or set low_memory=False.\n",
      "  Online_retail_data_df_ = pd.read_csv('C:/Users/cfsbc/OneDrive - GUSCanada/Project 2/results.csv',)\n"
     ]
    }
   ],
   "source": [
    "Online_retail_data_df_ = pd.read_csv('C:/Users/cfsbc/OneDrive - GUSCanada/Project 2/results.csv',)"
   ]
  },
  {
   "cell_type": "markdown",
   "metadata": {},
   "source": [
    "#### Create a bar chart by considering Year & number of Quantity"
   ]
  },
  {
   "cell_type": "code",
   "execution_count": 22,
   "metadata": {},
   "outputs": [
    {
     "data": {
      "image/png": "[encoded data removed]",
      "text/plain": [
       "<Figure size 432x288 with 1 Axes>"
      ]
     },
     "metadata": {
      "needs_background": "light"
     },
     "output_type": "display_data"
    }
   ],
   "source": [
    "sns.barplot('year', 'Quantity', data=Online_retail_data_df_);"
   ]
  },
  {
   "cell_type": "markdown",
   "metadata": {},
   "source": [
    "#### Create a bar chart by considering orders for the each country"
   ]
  },
  {
   "cell_type": "code",
   "execution_count": 37,
   "metadata": {},
   "outputs": [
    {
     "data": {
      "image/png": "[encoded data removed]",
      "text/plain": [
       "<Figure size 432x288 with 1 Axes>"
      ]
     },
     "metadata": {
      "needs_background": "light"
     },
     "output_type": "display_data"
    }
   ],
   "source": [
    "sns.barplot('Country', 'Total_Cost', data=Online_retail_data_df_);"
   ]
  },
  {
   "cell_type": "markdown",
   "metadata": {},
   "source": [
    "#### Take the Average cost for the month"
   ]
  },
  {
   "cell_type": "code",
   "execution_count": 27,
   "metadata": {},
   "outputs": [],
   "source": [
    "Online_Total_Cost_df_ = Online_retail_data_df_.groupby('month')[['Total_Cost']].mean()"
   ]
  },
  {
   "cell_type": "code",
   "execution_count": 28,
   "metadata": {},
   "outputs": [
    {
     "data": {
      "text/html": [
       "<div>\n",
       "<style scoped>\n",
       "    .dataframe tbody tr th:only-of-type {\n",
       "        vertical-align: middle;\n",
       "    }\n",
       "\n",
       "    .dataframe tbody tr th {\n",
       "        vertical-align: top;\n",
       "    }\n",
       "\n",
       "    .dataframe thead th {\n",
       "        text-align: right;\n",
       "    }\n",
       "</style>\n",
       "<table border=\"1\" class=\"dataframe\">\n",
       "  <thead>\n",
       "    <tr style=\"text-align: right;\">\n",
       "      <th></th>\n",
       "      <th>Total_Cost</th>\n",
       "    </tr>\n",
       "    <tr>\n",
       "      <th>month</th>\n",
       "      <th></th>\n",
       "    </tr>\n",
       "  </thead>\n",
       "  <tbody>\n",
       "    <tr>\n",
       "      <th>1</th>\n",
       "      <td>15.199779</td>\n",
       "    </tr>\n",
       "    <tr>\n",
       "      <th>2</th>\n",
       "      <td>13.567222</td>\n",
       "    </tr>\n",
       "    <tr>\n",
       "      <th>3</th>\n",
       "      <td>15.782853</td>\n",
       "    </tr>\n",
       "    <tr>\n",
       "      <th>4</th>\n",
       "      <td>14.109796</td>\n",
       "    </tr>\n",
       "    <tr>\n",
       "      <th>5</th>\n",
       "      <td>15.005964</td>\n",
       "    </tr>\n",
       "    <tr>\n",
       "      <th>6</th>\n",
       "      <td>13.591611</td>\n",
       "    </tr>\n",
       "    <tr>\n",
       "      <th>7</th>\n",
       "      <td>16.305921</td>\n",
       "    </tr>\n",
       "    <tr>\n",
       "      <th>8</th>\n",
       "      <td>13.432953</td>\n",
       "    </tr>\n",
       "    <tr>\n",
       "      <th>9</th>\n",
       "      <td>19.283701</td>\n",
       "    </tr>\n",
       "    <tr>\n",
       "      <th>10</th>\n",
       "      <td>14.603177</td>\n",
       "    </tr>\n",
       "    <tr>\n",
       "      <th>11</th>\n",
       "      <td>13.857324</td>\n",
       "    </tr>\n",
       "    <tr>\n",
       "      <th>12</th>\n",
       "      <td>14.450110</td>\n",
       "    </tr>\n",
       "  </tbody>\n",
       "</table>\n",
       "</div>"
      ],
      "text/plain": [
       "       Total_Cost\n",
       "month            \n",
       "1       15.199779\n",
       "2       13.567222\n",
       "3       15.782853\n",
       "4       14.109796\n",
       "5       15.005964\n",
       "6       13.591611\n",
       "7       16.305921\n",
       "8       13.432953\n",
       "9       19.283701\n",
       "10      14.603177\n",
       "11      13.857324\n",
       "12      14.450110"
      ]
     },
     "execution_count": 28,
     "metadata": {},
     "output_type": "execute_result"
    }
   ],
   "source": [
    "Online_Total_Cost_df_"
   ]
  },
  {
   "cell_type": "code",
   "execution_count": 30,
   "metadata": {},
   "outputs": [
    {
     "data": {
      "text/plain": [
       "<BarContainer object of 12 artists>"
      ]
     },
     "execution_count": 30,
     "metadata": {},
     "output_type": "execute_result"
    },
    {
     "data": {
      "image/png": "[encoded data removed]",
      "text/plain": [
       "<Figure size 432x288 with 1 Axes>"
      ]
     },
     "metadata": {
      "needs_background": "light"
     },
     "output_type": "display_data"
    }
   ],
   "source": [
    "plt.bar(Online_Total_Cost_df_.index,Online_Total_Cost_df_.Total_Cost)"
   ]
  },
  {
   "cell_type": "markdown",
   "metadata": {},
   "source": [
    "#### Create multiple histrogram for countries"
   ]
  },
  {
   "cell_type": "code",
   "execution_count": 56,
   "metadata": {},
   "outputs": [],
   "source": [
    "United_Kingdom_df = Online_retail_data_df_[Online_retail_data_df_.Country == 'United Kingdom']\n",
    "Canada_df = Online_retail_data_df_[Online_retail_data_df_.Country == 'Canada']"
   ]
  },
  {
   "cell_type": "code",
   "execution_count": 61,
   "metadata": {},
   "outputs": [
    {
     "data": {
      "image/png": "[encoded data removed]",
      "text/plain": [
       "<Figure size 432x288 with 1 Axes>"
      ]
     },
     "metadata": {
      "needs_background": "light"
     },
     "output_type": "display_data"
    }
   ],
   "source": [
    "plt.hist(United_Kingdom_df.Quantity, alpha=0.6, bins=np.arange(2,5,0.25));\n",
    "plt.hist(Canada_df.Quantity, alpha=0.6, bins=np.arange(2,5,0.25));"
   ]
  }
 ],
 "metadata": {
  "kernelspec": {
   "display_name": "Python 3.9.12 ('base')",
   "language": "python",
   "name": "python3"
  },
  "language_info": {
   "codemirror_mode": {
    "name": "ipython",
    "version": 3
   },
   "file_extension": ".py",
   "mimetype": "text/x-python",
   "name": "python",
   "nbconvert_exporter": "python",
   "pygments_lexer": "ipython3",
   "version": "3.9.12"
  },
  "orig_nbformat": 4,
  "vscode": {
   "interpreter": {
    "hash": "84885feb23d22253f8889c6fe44ebf3d58417f93f38c2f0ac500ce28a66b3bce"
   }
  }
 },
 "nbformat": 4,
 "nbformat_minor": 2
}
